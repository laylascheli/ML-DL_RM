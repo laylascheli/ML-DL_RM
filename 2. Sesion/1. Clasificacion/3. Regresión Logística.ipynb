{
 "cells": [
  {
   "cell_type": "markdown",
   "metadata": {},
   "source": [
    "# Ejemplo:"
   ]
  },
  {
   "cell_type": "markdown",
   "metadata": {},
   "source": [
    "Vamos a suponer que queremos predecir cuál es la probabilidad que tiene un estudiante de aprobar un examen en función de las horas que ha estudiado. Vale mencionar que para la realización de este ejercicio, se estima que un estudiante que estudie al menos 1.75 horas aprobará el examen."
   ]
  },
  {
   "cell_type": "markdown",
   "metadata": {},
   "source": [
    "Podemos escribir el siguiente código python para representar los datos que utlizaremos:"
   ]
  },
  {
   "cell_type": "code",
   "execution_count": 1,
   "metadata": {},
   "outputs": [],
   "source": [
    "# Paso 1: importamos la librería numérica NumPy\n",
    "import numpy as np\n",
    "\n",
    "# Paso 2: preparamos los datos\n",
    "X = np.array([0.5, 0.75, 1, 1.25, 1.5, 1.75, 1.75, 2, 2.25, 2.5, 2.75, 3, 3.25, 3.5, 4, 4.25, 4.5, 4.75, 5, 5.5]).reshape(-1,1)\n",
    "y = np.array([0, 0, 0, 0, 0, 0, 1, 0, 1, 0, 1, 0, 1, 0, 1, 1, 1, 1, 1, 1])\n",
    "\n",
    "#Aclaración: X es las horas de estudio e y si aprueba o no el examen el alumno!"
   ]
  },
  {
   "cell_type": "code",
   "execution_count": 2,
   "metadata": {},
   "outputs": [
    {
     "data": {
      "text/plain": [
       "LogisticRegression()"
      ]
     },
     "execution_count": 2,
     "metadata": {},
     "output_type": "execute_result"
    }
   ],
   "source": [
    "#Entrenamos un modelo de regresión logística\n",
    "\n",
    "# Paso 3: importamos la clase LogisticRegresion de scikit-learn\n",
    "from sklearn.linear_model import LogisticRegression\n",
    "\n",
    "# Paso 4: Creamos una instancia de la Regresión Logística\n",
    "regresion_logistica = LogisticRegression()\n",
    "\n",
    "# Paso 5: Entrenamos la regresión logística con los datos de entrenamiento\n",
    "regresion_logistica.fit(X,y)"
   ]
  },
  {
   "cell_type": "code",
   "execution_count": 3,
   "metadata": {},
   "outputs": [
    {
     "name": "stdout",
     "output_type": "stream",
     "text": [
      "[0 0 1 1]\n"
     ]
    }
   ],
   "source": [
    "#Hacemos la predicción para: 0.5, 1, 3 ó 6 horas de estudio...\n",
    "\n",
    "X_nuevo = np.array([0.5, 1, 3, 6]).reshape(-1,1)\n",
    "\n",
    "# Paso 6: Usa el modelo entrenado para obtener las predicciones con datos nuevos\n",
    "\n",
    "prediccion = regresion_logistica.predict(X_nuevo)\n",
    "print(prediccion)\n",
    "\n",
    "#Insight: Como podemos observar si estudiamos 0.5 hs o 1 hs no aprobaríamos nuestro examen!"
   ]
  },
  {
   "cell_type": "code",
   "execution_count": 4,
   "metadata": {},
   "outputs": [
    {
     "name": "stdout",
     "output_type": "stream",
     "text": [
      "[[0.92858952 0.07141048]\n",
      " [0.87984046 0.12015954]\n",
      " [0.42402118 0.57597882]\n",
      " [0.02293029 0.97706971]]\n"
     ]
    }
   ],
   "source": [
    "# Paso 7: Opcionalmente, obtenemos las probabilidades de la predicción\n",
    "probabilidades_prediccion = regresion_logistica.predict_proba(X_nuevo)\n",
    "print(probabilidades_prediccion)"
   ]
  },
  {
   "cell_type": "code",
   "execution_count": 5,
   "metadata": {},
   "outputs": [
    {
     "name": "stdout",
     "output_type": "stream",
     "text": [
      "[0.07141048 0.12015954 0.57597882 0.97706971]\n"
     ]
    }
   ],
   "source": [
    "# Como seguramente estamos más interesados en la probabilidad de aprobar, podemos centrarnos en la segunda columna\n",
    "print(probabilidades_prediccion[:,1])"
   ]
  }
 ],
 "metadata": {
  "kernelspec": {
   "display_name": "Python 3 (ipykernel)",
   "language": "python",
   "name": "python3"
  },
  "language_info": {
   "codemirror_mode": {
    "name": "ipython",
    "version": 3
   },
   "file_extension": ".py",
   "mimetype": "text/x-python",
   "name": "python",
   "nbconvert_exporter": "python",
   "pygments_lexer": "ipython3",
   "version": "3.9.12"
  },
  "varInspector": {
   "cols": {
    "lenName": 16,
    "lenType": 16,
    "lenVar": 40
   },
   "kernels_config": {
    "python": {
     "delete_cmd_postfix": "",
     "delete_cmd_prefix": "del ",
     "library": "var_list.py",
     "varRefreshCmd": "print(var_dic_list())"
    },
    "r": {
     "delete_cmd_postfix": ") ",
     "delete_cmd_prefix": "rm(",
     "library": "var_list.r",
     "varRefreshCmd": "cat(var_dic_list()) "
    }
   },
   "types_to_exclude": [
    "module",
    "function",
    "builtin_function_or_method",
    "instance",
    "_Feature"
   ],
   "window_display": false
  }
 },
 "nbformat": 4,
 "nbformat_minor": 4
}
